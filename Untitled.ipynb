{
 "cells": [
  {
   "cell_type": "code",
   "execution_count": 36,
   "metadata": {},
   "outputs": [],
   "source": [
    "import pandas as pd\n",
    "import numpy as np\n",
    "\n",
    "from keras.preprocessing.image import ImageDataGenerator\n",
    "\n",
    "\n",
    "def split_dataframe(df, train_p, val_p,  random_state=200):\n",
    "    '''\n",
    "    split data frame into train, validation and test\n",
    "    '''\n",
    "    df_train = df.sample(frac=train_p, random_state=random_state)\n",
    "    df = df.drop(df_train.index)\n",
    "    df_val = df.sample(frac=val_p / (1 - train_p), random_state=random_state)\n",
    "    df_test = df.drop(df_val.index)\n",
    "\n",
    "    # make index_col as indeces\n",
    "    # df_train = df_train.set_index(index_col)\n",
    "    # df_val = df_val.set_index(index_col)\n",
    "    # df_test = df_test.set_index(index_col)\n",
    "    \n",
    "    # reset the index to prevent problems of 0 indexing\n",
    "    df_train = df_train.reset_index()\n",
    "    df_val = df_val.reset_index()\n",
    "    df_test = df_test.reset_index()\n",
    "    \n",
    "    return df_train, df_val, df_test"
   ]
  },
  {
   "cell_type": "code",
   "execution_count": 37,
   "metadata": {},
   "outputs": [],
   "source": [
    "path_to_csv = 'nests.csv'\n",
    "train_p, val_p = 0.8, 0.1\n",
    "index_col = 'files'\n",
    "label_col = 'nest'\n",
    "batch_size = 32\n",
    "\n",
    "df = pd.read_csv(path_to_csv)\n",
    "# split data frame into train, validation and test\n",
    "df_train, df_val, df_test = split_dataframe(df, train_p, val_p)\n"
   ]
  },
  {
   "cell_type": "code",
   "execution_count": 38,
   "metadata": {},
   "outputs": [
    {
     "name": "stdout",
     "output_type": "stream",
     "text": [
      "Found 42981 images.\n",
      "Found 5373 images.\n",
      "Found 5372 images.\n"
     ]
    }
   ],
   "source": [
    "datagen = ImageDataGenerator()\n",
    "datagen1 = ImageDataGenerator()\n",
    "datagen2 = ImageDataGenerator()\n",
    "\n",
    "train_generator = datagen.flow_from_dataframe(\n",
    "    dataframe=df_train,\n",
    "    directory='data/Max_20Flights2017/frames/',\n",
    "    x_col=index_col,\n",
    "    y_col=label_col,\n",
    "    has_ext=True,\n",
    "    target_size=(336, 256),\n",
    "    color_mode='grayscale',\n",
    "    class_mode='other',\n",
    "    batch_size=batch_size,\n",
    "    # shuffle=True\n",
    ")\n",
    "\n",
    "val_generator = datagen.flow_from_dataframe(\n",
    "    dataframe=df_val,\n",
    "    directory='data/Max_20Flights2017/frames/',\n",
    "    x_col=index_col,\n",
    "    y_col=label_col,\n",
    "    has_ext=True,\n",
    "    target_size=(336, 256),\n",
    "    color_mode='grayscale',\n",
    "    class_mode='other',\n",
    "    batch_size=batch_size,\n",
    "    # shuffle=True\n",
    ")\n",
    "\n",
    "test_generator = datagen.flow_from_dataframe(\n",
    "    dataframe=df_test,\n",
    "    directory='data/Max_20Flights2017/frames/',\n",
    "    x_col=index_col,\n",
    "    y_col=label_col,\n",
    "    has_ext=True,\n",
    "    target_size=(336, 256),\n",
    "    color_mode='grayscale',\n",
    "    class_mode='other',\n",
    "    batch_size=batch_size,\n",
    "    # shuffle=True\n",
    ")"
   ]
  }
 ],
 "metadata": {
  "kernelspec": {
   "display_name": "Python 3",
   "language": "python",
   "name": "python3"
  },
  "language_info": {
   "codemirror_mode": {
    "name": "ipython",
    "version": 3
   },
   "file_extension": ".py",
   "mimetype": "text/x-python",
   "name": "python",
   "nbconvert_exporter": "python",
   "pygments_lexer": "ipython3",
   "version": "3.6.7"
  }
 },
 "nbformat": 4,
 "nbformat_minor": 2
}
